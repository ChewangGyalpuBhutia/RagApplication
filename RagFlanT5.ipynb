{
 "cells": [
  {
   "cell_type": "code",
   "execution_count": 2,
   "id": "78255662-c3c4-48fc-b72e-59ea39dae409",
   "metadata": {},
   "outputs": [],
   "source": [
    "from langchain.document_loaders import JSONLoader\n",
    "from langchain.text_splitter import RecursiveCharacterTextSplitter\n",
    "from langchain.embeddings import HuggingFaceEmbeddings\n",
    "from langchain.vectorstores import FAISS\n",
    "from langchain.chains import RetrievalQA\n",
    "from langchain_community.llms import HuggingFacePipeline\n",
    "from transformers import AutoTokenizer, AutoModelForSeq2SeqLM, pipeline"
   ]
  },
  {
   "cell_type": "code",
   "execution_count": 3,
   "id": "44fec2fa-ec34-4ae4-a662-097ffab975aa",
   "metadata": {},
   "outputs": [],
   "source": [
    "def load_and_process_data(file_path):\n",
    "    def metadata_func(record: dict, metadata: dict) -> dict:\n",
    "        metadata[\"title\"] = record.get(\"title\", \"\")\n",
    "        return metadata\n",
    "    \n",
    "    loader = JSONLoader(\n",
    "        file_path=file_path,\n",
    "        jq_schema='.[]',\n",
    "        content_key='text',\n",
    "        metadata_func=metadata_func\n",
    "    )\n",
    "    \n",
    "    documents = loader.load()\n",
    "    \n",
    "    # Split documents into chunks\n",
    "    text_splitter = RecursiveCharacterTextSplitter(\n",
    "        chunk_size=125,\n",
    "        chunk_overlap=25\n",
    "    )\n",
    "    texts = text_splitter.split_documents(documents)\n",
    "    \n",
    "    return texts"
   ]
  },
  {
   "cell_type": "code",
   "execution_count": 4,
   "id": "7cf72222-965a-47db-be9e-45d0ad5484d0",
   "metadata": {},
   "outputs": [],
   "source": [
    "texts = load_and_process_data('dataset/dataset.json')"
   ]
  },
  {
   "cell_type": "code",
   "execution_count": 5,
   "id": "76289bad-48a2-466b-947a-b4c436a6fa16",
   "metadata": {},
   "outputs": [],
   "source": [
    "def create_vector_store(texts):\n",
    "    embeddings = HuggingFaceEmbeddings(\n",
    "        model_name=\"sentence-transformers/all-mpnet-base-v2\"\n",
    "    )\n",
    "    db = FAISS.from_documents(texts, embeddings)\n",
    "    return db\n"
   ]
  },
  {
   "cell_type": "code",
   "execution_count": 6,
   "id": "cd3aaa28-987f-4b4d-963e-298adb6b28f2",
   "metadata": {},
   "outputs": [
    {
     "name": "stderr",
     "output_type": "stream",
     "text": [
      "/tmp/ipykernel_13468/3785623460.py:2: LangChainDeprecationWarning: The class `HuggingFaceEmbeddings` was deprecated in LangChain 0.2.2 and will be removed in 1.0. An updated version of the class exists in the :class:`~langchain-huggingface package and should be used instead. To use it run `pip install -U :class:`~langchain-huggingface` and import as `from :class:`~langchain_huggingface import HuggingFaceEmbeddings``.\n",
      "  embeddings = HuggingFaceEmbeddings(\n"
     ]
    }
   ],
   "source": [
    "db = create_vector_store(texts)"
   ]
  },
  {
   "cell_type": "code",
   "execution_count": 7,
   "id": "78e725c7-8303-49ed-a638-aafe2075e0ab",
   "metadata": {},
   "outputs": [
    {
     "data": {
      "text/plain": [
       "[Document(id='637eecf3-02ba-481b-8efa-d6025d5d8f72', metadata={'source': '/home/mendel/Desktop/Mendel/ArtificialIntelligence/RagApplication/dataset/dataset.json', 'seq_num': 1, 'title': 'Personal Background'}, page_content='Mendel, whose full name is Chewang Gyalpu Bhutia, is an AI enthusiast and full-stack software developer from India. He is')]"
      ]
     },
     "execution_count": 7,
     "metadata": {},
     "output_type": "execute_result"
    }
   ],
   "source": [
    "query = \"What is mendel personal background?\"\n",
    "results = db.similarity_search(query, k=1)  \n",
    "results"
   ]
  },
  {
   "cell_type": "code",
   "execution_count": 8,
   "id": "c4a6e734-825b-4625-820a-5ba780e0a599",
   "metadata": {},
   "outputs": [],
   "source": [
    "model_name = \"google/flan-t5-base\"  # or \"google/flan-t5-small\" for lighter version\n",
    "tokenizer = AutoTokenizer.from_pretrained(model_name)\n",
    "model = AutoModelForSeq2SeqLM.from_pretrained(model_name)"
   ]
  },
  {
   "cell_type": "code",
   "execution_count": 9,
   "id": "dbb5de0e-feb8-4dd8-bf75-75428a5afa6d",
   "metadata": {},
   "outputs": [],
   "source": [
    "def initialize_qa_chain(db):\n",
    "    pipe = pipeline(\n",
    "        \"text2text-generation\",\n",
    "        model=model,\n",
    "        tokenizer=tokenizer,\n",
    "        max_length=384,\n",
    "        temperature=1.0\n",
    "    )\n",
    "    \n",
    "    llm = HuggingFacePipeline(pipeline=pipe)\n",
    "    \n",
    "    retriever = db.as_retriever(search_kwargs={\"k\": 9})\n",
    "    return RetrievalQA.from_chain_type(\n",
    "        llm=llm,\n",
    "        chain_type=\"stuff\",\n",
    "        retriever=retriever,\n",
    "        return_source_documents=True\n",
    "    )"
   ]
  },
  {
   "cell_type": "code",
   "execution_count": 10,
   "id": "7e450df4-15c6-4e03-8580-0f6cf1b5d52a",
   "metadata": {},
   "outputs": [
    {
     "name": "stderr",
     "output_type": "stream",
     "text": [
      "Device set to use cpu\n",
      "/tmp/ipykernel_13468/1829105796.py:10: LangChainDeprecationWarning: The class `HuggingFacePipeline` was deprecated in LangChain 0.0.37 and will be removed in 1.0. An updated version of the class exists in the :class:`~langchain-huggingface package and should be used instead. To use it run `pip install -U :class:`~langchain-huggingface` and import as `from :class:`~langchain_huggingface import HuggingFacePipeline``.\n",
      "  llm = HuggingFacePipeline(pipeline=pipe)\n"
     ]
    }
   ],
   "source": [
    "qa_chain = initialize_qa_chain(db)"
   ]
  },
  {
   "cell_type": "code",
   "execution_count": 11,
   "id": "b46a3e59-1aea-48a0-ba70-bb8108c9a3ac",
   "metadata": {},
   "outputs": [
    {
     "name": "stdout",
     "output_type": "stream",
     "text": [
      "\n",
      "Question: Tell me something about mendel\n",
      "Answer: Mendel, whose full name is Chewang Gyalpu Bhutia, is an AI enthusiast and full-stack software developer from India. He is Beyond technology, Mendel enjoys reading the Bhagavad Gita, studying philosophical texts, and exploring topics like personal Mendel is actively learning about quantitative finance and aims to become a quant trading developer. He has created Mendel is currently pursuing his Master of Computer Applications (MCA) from Indira Gandhi National Open University (IGNOU), He is proficient in programming languages like Python, JavaScript, and Java. Mendel works fluently with full-stack In addition to coding, Mendel has excellent communication and technical writing skills. He has prepared complete Mendel has gained valuable industry experience through internships and freelance roles. At Ensemble Control Inc., he worked Mendel’s long-term goal is to build cutting-edge, AI-powered systems that solve real-world financial and analytical problems. One of Mendel’s signature projects is a stock price prediction system using yfinance data and Prophet for forecasting.\n",
      "\n",
      "Sources:\n",
      "- Personal Background\n",
      "- Hobbies and Personal Interests\n",
      "- Quantitative Finance Interests\n",
      "- Education\n",
      "- Technical Skills\n",
      "- Communication and Documentation\n",
      "- Professional Experience\n",
      "- Vision and Aspirations\n",
      "- Projects and Achievements\n"
     ]
    }
   ],
   "source": [
    "query = \"Tell me something about mendel\"\n",
    "result = qa_chain.invoke({\"query\": query}) \n",
    "\n",
    "print(\"\\nQuestion:\", query)\n",
    "print(\"Answer:\", result[\"result\"])\n",
    "print(\"\\nSources:\")\n",
    "for doc in result[\"source_documents\"]:\n",
    "    print(f\"- {doc.metadata['title']}\")"
   ]
  },
  {
   "cell_type": "code",
   "execution_count": null,
   "id": "ecbef4a5-531e-49ff-97ad-f640224e6287",
   "metadata": {},
   "outputs": [],
   "source": []
  }
 ],
 "metadata": {
  "kernelspec": {
   "display_name": "Python 3 (ipykernel)",
   "language": "python",
   "name": "python3"
  },
  "language_info": {
   "codemirror_mode": {
    "name": "ipython",
    "version": 3
   },
   "file_extension": ".py",
   "mimetype": "text/x-python",
   "name": "python",
   "nbconvert_exporter": "python",
   "pygments_lexer": "ipython3",
   "version": "3.12.3"
  }
 },
 "nbformat": 4,
 "nbformat_minor": 5
}
